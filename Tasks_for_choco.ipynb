{
 "cells": [
  {
   "cell_type": "code",
   "execution_count": 830,
   "metadata": {},
   "outputs": [],
   "source": [
    "import pandas as pd\n",
    "import numpy as np"
   ]
  },
  {
   "cell_type": "markdown",
   "metadata": {},
   "source": [
    "# Задание 1.1"
   ]
  },
  {
   "cell_type": "code",
   "execution_count": 831,
   "metadata": {},
   "outputs": [],
   "source": [
    "choco = pd.read_excel('Test for Marketing Analyst.xlsx', sheet_name = 'Данные к Заданию 1')"
   ]
  },
  {
   "cell_type": "code",
   "execution_count": 832,
   "metadata": {},
   "outputs": [
    {
     "data": {
      "text/html": [
       "<div>\n",
       "<style scoped>\n",
       "    .dataframe tbody tr th:only-of-type {\n",
       "        vertical-align: middle;\n",
       "    }\n",
       "\n",
       "    .dataframe tbody tr th {\n",
       "        vertical-align: top;\n",
       "    }\n",
       "\n",
       "    .dataframe thead th {\n",
       "        text-align: right;\n",
       "    }\n",
       "</style>\n",
       "<table border=\"1\" class=\"dataframe\">\n",
       "  <thead>\n",
       "    <tr style=\"text-align: right;\">\n",
       "      <th></th>\n",
       "      <th>users</th>\n",
       "      <th>Месяц</th>\n",
       "      <th>Кол-во заказов</th>\n",
       "      <th>city</th>\n",
       "      <th>Точка заведения</th>\n",
       "    </tr>\n",
       "  </thead>\n",
       "  <tbody>\n",
       "    <tr>\n",
       "      <th>0</th>\n",
       "      <td>77060876181</td>\n",
       "      <td>Декабрь</td>\n",
       "      <td>22</td>\n",
       "      <td>Алматы</td>\n",
       "      <td>Burger King Глобус</td>\n",
       "    </tr>\n",
       "    <tr>\n",
       "      <th>1</th>\n",
       "      <td>77026047434</td>\n",
       "      <td>Ноябрь</td>\n",
       "      <td>19</td>\n",
       "      <td>Алматы</td>\n",
       "      <td>Burger King Арман</td>\n",
       "    </tr>\n",
       "    <tr>\n",
       "      <th>2</th>\n",
       "      <td>77081501337</td>\n",
       "      <td>Ноябрь</td>\n",
       "      <td>18</td>\n",
       "      <td>Шымкент</td>\n",
       "      <td>Три Самурая</td>\n",
       "    </tr>\n",
       "    <tr>\n",
       "      <th>3</th>\n",
       "      <td>77057164908</td>\n",
       "      <td>Ноябрь</td>\n",
       "      <td>17</td>\n",
       "      <td>Алматы</td>\n",
       "      <td>Burger King Арман</td>\n",
       "    </tr>\n",
       "    <tr>\n",
       "      <th>4</th>\n",
       "      <td>77017442374</td>\n",
       "      <td>Октябрь</td>\n",
       "      <td>16</td>\n",
       "      <td>Алматы</td>\n",
       "      <td>Burger King Глобус</td>\n",
       "    </tr>\n",
       "  </tbody>\n",
       "</table>\n",
       "</div>"
      ],
      "text/plain": [
       "         users    Месяц  Кол-во заказов     city     Точка заведения\n",
       "0  77060876181  Декабрь              22   Алматы  Burger King Глобус\n",
       "1  77026047434   Ноябрь              19   Алматы   Burger King Арман\n",
       "2  77081501337   Ноябрь              18  Шымкент         Три Самурая\n",
       "3  77057164908   Ноябрь              17   Алматы   Burger King Арман\n",
       "4  77017442374  Октябрь              16   Алматы  Burger King Глобус"
      ]
     },
     "execution_count": 832,
     "metadata": {},
     "output_type": "execute_result"
    }
   ],
   "source": [
    "choco.head()"
   ]
  },
  {
   "cell_type": "code",
   "execution_count": 833,
   "metadata": {},
   "outputs": [],
   "source": [
    "choco.columns = ['users', 'month', 'cnt', 'city', 'point_of_rest']"
   ]
  },
  {
   "cell_type": "code",
   "execution_count": 834,
   "metadata": {},
   "outputs": [
    {
     "data": {
      "text/html": [
       "<div>\n",
       "<style scoped>\n",
       "    .dataframe tbody tr th:only-of-type {\n",
       "        vertical-align: middle;\n",
       "    }\n",
       "\n",
       "    .dataframe tbody tr th {\n",
       "        vertical-align: top;\n",
       "    }\n",
       "\n",
       "    .dataframe thead th {\n",
       "        text-align: right;\n",
       "    }\n",
       "</style>\n",
       "<table border=\"1\" class=\"dataframe\">\n",
       "  <thead>\n",
       "    <tr style=\"text-align: right;\">\n",
       "      <th></th>\n",
       "      <th>users</th>\n",
       "      <th>month</th>\n",
       "      <th>cnt</th>\n",
       "      <th>city</th>\n",
       "      <th>point_of_rest</th>\n",
       "    </tr>\n",
       "  </thead>\n",
       "  <tbody>\n",
       "    <tr>\n",
       "      <th>0</th>\n",
       "      <td>77060876181</td>\n",
       "      <td>Декабрь</td>\n",
       "      <td>22</td>\n",
       "      <td>Алматы</td>\n",
       "      <td>Burger King Глобус</td>\n",
       "    </tr>\n",
       "    <tr>\n",
       "      <th>1</th>\n",
       "      <td>77026047434</td>\n",
       "      <td>Ноябрь</td>\n",
       "      <td>19</td>\n",
       "      <td>Алматы</td>\n",
       "      <td>Burger King Арман</td>\n",
       "    </tr>\n",
       "    <tr>\n",
       "      <th>2</th>\n",
       "      <td>77081501337</td>\n",
       "      <td>Ноябрь</td>\n",
       "      <td>18</td>\n",
       "      <td>Шымкент</td>\n",
       "      <td>Три Самурая</td>\n",
       "    </tr>\n",
       "    <tr>\n",
       "      <th>3</th>\n",
       "      <td>77057164908</td>\n",
       "      <td>Ноябрь</td>\n",
       "      <td>17</td>\n",
       "      <td>Алматы</td>\n",
       "      <td>Burger King Арман</td>\n",
       "    </tr>\n",
       "    <tr>\n",
       "      <th>4</th>\n",
       "      <td>77017442374</td>\n",
       "      <td>Октябрь</td>\n",
       "      <td>16</td>\n",
       "      <td>Алматы</td>\n",
       "      <td>Burger King Глобус</td>\n",
       "    </tr>\n",
       "    <tr>\n",
       "      <th>...</th>\n",
       "      <td>...</td>\n",
       "      <td>...</td>\n",
       "      <td>...</td>\n",
       "      <td>...</td>\n",
       "      <td>...</td>\n",
       "    </tr>\n",
       "    <tr>\n",
       "      <th>19957</th>\n",
       "      <td>79132138548</td>\n",
       "      <td>Октябрь</td>\n",
       "      <td>1</td>\n",
       "      <td>Алматы</td>\n",
       "      <td>Burger King Максима</td>\n",
       "    </tr>\n",
       "    <tr>\n",
       "      <th>19958</th>\n",
       "      <td>79168804858</td>\n",
       "      <td>Октябрь</td>\n",
       "      <td>1</td>\n",
       "      <td>Алматы</td>\n",
       "      <td>Burger King Арман</td>\n",
       "    </tr>\n",
       "    <tr>\n",
       "      <th>19959</th>\n",
       "      <td>79168804858</td>\n",
       "      <td>Октябрь</td>\n",
       "      <td>1</td>\n",
       "      <td>Алматы</td>\n",
       "      <td>Gippo</td>\n",
       "    </tr>\n",
       "    <tr>\n",
       "      <th>19960</th>\n",
       "      <td>79529260138</td>\n",
       "      <td>Октябрь</td>\n",
       "      <td>1</td>\n",
       "      <td>Астана</td>\n",
       "      <td>Чибо Сано</td>\n",
       "    </tr>\n",
       "    <tr>\n",
       "      <th>19961</th>\n",
       "      <td>79654015053</td>\n",
       "      <td>Ноябрь</td>\n",
       "      <td>1</td>\n",
       "      <td>Алматы</td>\n",
       "      <td>Чибо Сано</td>\n",
       "    </tr>\n",
       "  </tbody>\n",
       "</table>\n",
       "<p>19962 rows × 5 columns</p>\n",
       "</div>"
      ],
      "text/plain": [
       "             users    month  cnt     city        point_of_rest\n",
       "0      77060876181  Декабрь   22   Алматы   Burger King Глобус\n",
       "1      77026047434   Ноябрь   19   Алматы    Burger King Арман\n",
       "2      77081501337   Ноябрь   18  Шымкент          Три Самурая\n",
       "3      77057164908   Ноябрь   17   Алматы    Burger King Арман\n",
       "4      77017442374  Октябрь   16   Алматы   Burger King Глобус\n",
       "...            ...      ...  ...      ...                  ...\n",
       "19957  79132138548  Октябрь    1   Алматы  Burger King Максима\n",
       "19958  79168804858  Октябрь    1   Алматы    Burger King Арман\n",
       "19959  79168804858  Октябрь    1   Алматы                Gippo\n",
       "19960  79529260138  Октябрь    1   Астана            Чибо Сано\n",
       "19961  79654015053   Ноябрь    1   Алматы            Чибо Сано\n",
       "\n",
       "[19962 rows x 5 columns]"
      ]
     },
     "execution_count": 834,
     "metadata": {},
     "output_type": "execute_result"
    }
   ],
   "source": [
    "choco"
   ]
  },
  {
   "cell_type": "code",
   "execution_count": 835,
   "metadata": {},
   "outputs": [],
   "source": [
    "choco_one_order_oct = choco.query('cnt ==1 and month==\"Октябрь\"')"
   ]
  },
  {
   "cell_type": "code",
   "execution_count": 836,
   "metadata": {},
   "outputs": [],
   "source": [
    "cross_table = pd.pivot_table(choco_one_order_oct, index = 'city', values = 'users', aggfunc='count')"
   ]
  },
  {
   "cell_type": "code",
   "execution_count": 837,
   "metadata": {},
   "outputs": [
    {
     "data": {
      "text/html": [
       "<div>\n",
       "<style scoped>\n",
       "    .dataframe tbody tr th:only-of-type {\n",
       "        vertical-align: middle;\n",
       "    }\n",
       "\n",
       "    .dataframe tbody tr th {\n",
       "        vertical-align: top;\n",
       "    }\n",
       "\n",
       "    .dataframe thead th {\n",
       "        text-align: right;\n",
       "    }\n",
       "</style>\n",
       "<table border=\"1\" class=\"dataframe\">\n",
       "  <thead>\n",
       "    <tr style=\"text-align: right;\">\n",
       "      <th></th>\n",
       "      <th>users</th>\n",
       "    </tr>\n",
       "    <tr>\n",
       "      <th>city</th>\n",
       "      <th></th>\n",
       "    </tr>\n",
       "  </thead>\n",
       "  <tbody>\n",
       "    <tr>\n",
       "      <th>Алматы</th>\n",
       "      <td>3326</td>\n",
       "    </tr>\n",
       "    <tr>\n",
       "      <th>Астана</th>\n",
       "      <td>1386</td>\n",
       "    </tr>\n",
       "    <tr>\n",
       "      <th>Атырау</th>\n",
       "      <td>34</td>\n",
       "    </tr>\n",
       "    <tr>\n",
       "      <th>Караганда</th>\n",
       "      <td>89</td>\n",
       "    </tr>\n",
       "    <tr>\n",
       "      <th>Каскелен</th>\n",
       "      <td>8</td>\n",
       "    </tr>\n",
       "    <tr>\n",
       "      <th>Павлодар</th>\n",
       "      <td>106</td>\n",
       "    </tr>\n",
       "    <tr>\n",
       "      <th>Шымкент</th>\n",
       "      <td>27</td>\n",
       "    </tr>\n",
       "  </tbody>\n",
       "</table>\n",
       "</div>"
      ],
      "text/plain": [
       "           users\n",
       "city            \n",
       "Алматы      3326\n",
       "Астана      1386\n",
       "Атырау        34\n",
       "Караганда     89\n",
       "Каскелен       8\n",
       "Павлодар     106\n",
       "Шымкент       27"
      ]
     },
     "execution_count": 837,
     "metadata": {},
     "output_type": "execute_result"
    }
   ],
   "source": [
    "cross_table"
   ]
  },
  {
   "cell_type": "code",
   "execution_count": 838,
   "metadata": {},
   "outputs": [],
   "source": [
    "cross_table.columns = ['percent_per_oct']"
   ]
  },
  {
   "cell_type": "code",
   "execution_count": 839,
   "metadata": {},
   "outputs": [],
   "source": [
    "cross_table['percent_per_oct'] = choco.query('cnt ==1 and month==\"Октябрь\"').groupby('city')['users'].count() / choco.query(' month==\"Октябрь\"').groupby('city')['users'].count()"
   ]
  },
  {
   "cell_type": "code",
   "execution_count": 840,
   "metadata": {},
   "outputs": [],
   "source": [
    "cross_table['percent_per_nov'] = choco.query('cnt ==1 and month==\"Ноябрь\"').groupby('city')['users'].count() / choco.query(' month==\"Ноябрь\"').groupby('city')['users'].count()"
   ]
  },
  {
   "cell_type": "code",
   "execution_count": 841,
   "metadata": {},
   "outputs": [],
   "source": [
    "cross_table['percent_per_dec'] = choco.query('cnt ==1 and month==\"Декабрь\"').groupby('city')['users'].count() / choco.query(' month==\"Декабрь\"').groupby('city')['users'].count()"
   ]
  },
  {
   "cell_type": "code",
   "execution_count": 842,
   "metadata": {},
   "outputs": [
    {
     "data": {
      "text/html": [
       "<div>\n",
       "<style scoped>\n",
       "    .dataframe tbody tr th:only-of-type {\n",
       "        vertical-align: middle;\n",
       "    }\n",
       "\n",
       "    .dataframe tbody tr th {\n",
       "        vertical-align: top;\n",
       "    }\n",
       "\n",
       "    .dataframe thead th {\n",
       "        text-align: right;\n",
       "    }\n",
       "</style>\n",
       "<table border=\"1\" class=\"dataframe\">\n",
       "  <thead>\n",
       "    <tr style=\"text-align: right;\">\n",
       "      <th></th>\n",
       "      <th>percent_per_oct</th>\n",
       "      <th>percent_per_nov</th>\n",
       "      <th>percent_per_dec</th>\n",
       "    </tr>\n",
       "    <tr>\n",
       "      <th>city</th>\n",
       "      <th></th>\n",
       "      <th></th>\n",
       "      <th></th>\n",
       "    </tr>\n",
       "  </thead>\n",
       "  <tbody>\n",
       "    <tr>\n",
       "      <th>Алматы</th>\n",
       "      <td>0.787219</td>\n",
       "      <td>0.752846</td>\n",
       "      <td>0.764894</td>\n",
       "    </tr>\n",
       "    <tr>\n",
       "      <th>Астана</th>\n",
       "      <td>0.857143</td>\n",
       "      <td>0.834163</td>\n",
       "      <td>0.839220</td>\n",
       "    </tr>\n",
       "    <tr>\n",
       "      <th>Атырау</th>\n",
       "      <td>0.918919</td>\n",
       "      <td>0.906977</td>\n",
       "      <td>0.914894</td>\n",
       "    </tr>\n",
       "    <tr>\n",
       "      <th>Караганда</th>\n",
       "      <td>0.927083</td>\n",
       "      <td>0.897436</td>\n",
       "      <td>0.871560</td>\n",
       "    </tr>\n",
       "    <tr>\n",
       "      <th>Каскелен</th>\n",
       "      <td>0.727273</td>\n",
       "      <td>1.000000</td>\n",
       "      <td>0.916667</td>\n",
       "    </tr>\n",
       "    <tr>\n",
       "      <th>Павлодар</th>\n",
       "      <td>0.929825</td>\n",
       "      <td>0.898438</td>\n",
       "      <td>0.907216</td>\n",
       "    </tr>\n",
       "    <tr>\n",
       "      <th>Шымкент</th>\n",
       "      <td>0.843750</td>\n",
       "      <td>0.777778</td>\n",
       "      <td>0.800000</td>\n",
       "    </tr>\n",
       "  </tbody>\n",
       "</table>\n",
       "</div>"
      ],
      "text/plain": [
       "           percent_per_oct  percent_per_nov  percent_per_dec\n",
       "city                                                        \n",
       "Алматы            0.787219         0.752846         0.764894\n",
       "Астана            0.857143         0.834163         0.839220\n",
       "Атырау            0.918919         0.906977         0.914894\n",
       "Караганда         0.927083         0.897436         0.871560\n",
       "Каскелен          0.727273         1.000000         0.916667\n",
       "Павлодар          0.929825         0.898438         0.907216\n",
       "Шымкент           0.843750         0.777778         0.800000"
      ]
     },
     "execution_count": 842,
     "metadata": {},
     "output_type": "execute_result"
    }
   ],
   "source": [
    "cross_table"
   ]
  },
  {
   "cell_type": "code",
   "execution_count": 843,
   "metadata": {},
   "outputs": [],
   "source": [
    "cross_table['differ'] = abs(cross_table['percent_per_oct']-cross_table['percent_per_nov'])"
   ]
  },
  {
   "cell_type": "code",
   "execution_count": 844,
   "metadata": {},
   "outputs": [
    {
     "data": {
      "text/html": [
       "<div>\n",
       "<style scoped>\n",
       "    .dataframe tbody tr th:only-of-type {\n",
       "        vertical-align: middle;\n",
       "    }\n",
       "\n",
       "    .dataframe tbody tr th {\n",
       "        vertical-align: top;\n",
       "    }\n",
       "\n",
       "    .dataframe thead th {\n",
       "        text-align: right;\n",
       "    }\n",
       "</style>\n",
       "<table border=\"1\" class=\"dataframe\">\n",
       "  <thead>\n",
       "    <tr style=\"text-align: right;\">\n",
       "      <th></th>\n",
       "      <th>percent_per_oct</th>\n",
       "      <th>percent_per_nov</th>\n",
       "      <th>percent_per_dec</th>\n",
       "      <th>differ</th>\n",
       "    </tr>\n",
       "    <tr>\n",
       "      <th>city</th>\n",
       "      <th></th>\n",
       "      <th></th>\n",
       "      <th></th>\n",
       "      <th></th>\n",
       "    </tr>\n",
       "  </thead>\n",
       "  <tbody>\n",
       "    <tr>\n",
       "      <th>Алматы</th>\n",
       "      <td>0.787219</td>\n",
       "      <td>0.752846</td>\n",
       "      <td>0.764894</td>\n",
       "      <td>0.034373</td>\n",
       "    </tr>\n",
       "    <tr>\n",
       "      <th>Астана</th>\n",
       "      <td>0.857143</td>\n",
       "      <td>0.834163</td>\n",
       "      <td>0.839220</td>\n",
       "      <td>0.022980</td>\n",
       "    </tr>\n",
       "    <tr>\n",
       "      <th>Атырау</th>\n",
       "      <td>0.918919</td>\n",
       "      <td>0.906977</td>\n",
       "      <td>0.914894</td>\n",
       "      <td>0.011942</td>\n",
       "    </tr>\n",
       "    <tr>\n",
       "      <th>Караганда</th>\n",
       "      <td>0.927083</td>\n",
       "      <td>0.897436</td>\n",
       "      <td>0.871560</td>\n",
       "      <td>0.029647</td>\n",
       "    </tr>\n",
       "    <tr>\n",
       "      <th>Каскелен</th>\n",
       "      <td>0.727273</td>\n",
       "      <td>1.000000</td>\n",
       "      <td>0.916667</td>\n",
       "      <td>0.272727</td>\n",
       "    </tr>\n",
       "    <tr>\n",
       "      <th>Павлодар</th>\n",
       "      <td>0.929825</td>\n",
       "      <td>0.898438</td>\n",
       "      <td>0.907216</td>\n",
       "      <td>0.031387</td>\n",
       "    </tr>\n",
       "    <tr>\n",
       "      <th>Шымкент</th>\n",
       "      <td>0.843750</td>\n",
       "      <td>0.777778</td>\n",
       "      <td>0.800000</td>\n",
       "      <td>0.065972</td>\n",
       "    </tr>\n",
       "  </tbody>\n",
       "</table>\n",
       "</div>"
      ],
      "text/plain": [
       "           percent_per_oct  percent_per_nov  percent_per_dec    differ\n",
       "city                                                                  \n",
       "Алматы            0.787219         0.752846         0.764894  0.034373\n",
       "Астана            0.857143         0.834163         0.839220  0.022980\n",
       "Атырау            0.918919         0.906977         0.914894  0.011942\n",
       "Караганда         0.927083         0.897436         0.871560  0.029647\n",
       "Каскелен          0.727273         1.000000         0.916667  0.272727\n",
       "Павлодар          0.929825         0.898438         0.907216  0.031387\n",
       "Шымкент           0.843750         0.777778         0.800000  0.065972"
      ]
     },
     "execution_count": 844,
     "metadata": {},
     "output_type": "execute_result"
    }
   ],
   "source": [
    "cross_table"
   ]
  },
  {
   "cell_type": "code",
   "execution_count": 845,
   "metadata": {},
   "outputs": [],
   "source": [
    "cross_table['res'] = cross_table['percent_per_dec'] + cross_table['differ']"
   ]
  },
  {
   "cell_type": "code",
   "execution_count": 846,
   "metadata": {},
   "outputs": [
    {
     "data": {
      "text/html": [
       "<div>\n",
       "<style scoped>\n",
       "    .dataframe tbody tr th:only-of-type {\n",
       "        vertical-align: middle;\n",
       "    }\n",
       "\n",
       "    .dataframe tbody tr th {\n",
       "        vertical-align: top;\n",
       "    }\n",
       "\n",
       "    .dataframe thead th {\n",
       "        text-align: right;\n",
       "    }\n",
       "</style>\n",
       "<table border=\"1\" class=\"dataframe\">\n",
       "  <thead>\n",
       "    <tr style=\"text-align: right;\">\n",
       "      <th></th>\n",
       "      <th>percent_per_oct</th>\n",
       "      <th>percent_per_nov</th>\n",
       "      <th>percent_per_dec</th>\n",
       "      <th>differ</th>\n",
       "      <th>res</th>\n",
       "    </tr>\n",
       "    <tr>\n",
       "      <th>city</th>\n",
       "      <th></th>\n",
       "      <th></th>\n",
       "      <th></th>\n",
       "      <th></th>\n",
       "      <th></th>\n",
       "    </tr>\n",
       "  </thead>\n",
       "  <tbody>\n",
       "    <tr>\n",
       "      <th>Алматы</th>\n",
       "      <td>0.787219</td>\n",
       "      <td>0.752846</td>\n",
       "      <td>0.764894</td>\n",
       "      <td>0.034373</td>\n",
       "      <td>0.799267</td>\n",
       "    </tr>\n",
       "    <tr>\n",
       "      <th>Астана</th>\n",
       "      <td>0.857143</td>\n",
       "      <td>0.834163</td>\n",
       "      <td>0.839220</td>\n",
       "      <td>0.022980</td>\n",
       "      <td>0.862199</td>\n",
       "    </tr>\n",
       "    <tr>\n",
       "      <th>Атырау</th>\n",
       "      <td>0.918919</td>\n",
       "      <td>0.906977</td>\n",
       "      <td>0.914894</td>\n",
       "      <td>0.011942</td>\n",
       "      <td>0.926836</td>\n",
       "    </tr>\n",
       "    <tr>\n",
       "      <th>Караганда</th>\n",
       "      <td>0.927083</td>\n",
       "      <td>0.897436</td>\n",
       "      <td>0.871560</td>\n",
       "      <td>0.029647</td>\n",
       "      <td>0.901207</td>\n",
       "    </tr>\n",
       "    <tr>\n",
       "      <th>Каскелен</th>\n",
       "      <td>0.727273</td>\n",
       "      <td>1.000000</td>\n",
       "      <td>0.916667</td>\n",
       "      <td>0.272727</td>\n",
       "      <td>1.189394</td>\n",
       "    </tr>\n",
       "    <tr>\n",
       "      <th>Павлодар</th>\n",
       "      <td>0.929825</td>\n",
       "      <td>0.898438</td>\n",
       "      <td>0.907216</td>\n",
       "      <td>0.031387</td>\n",
       "      <td>0.938604</td>\n",
       "    </tr>\n",
       "    <tr>\n",
       "      <th>Шымкент</th>\n",
       "      <td>0.843750</td>\n",
       "      <td>0.777778</td>\n",
       "      <td>0.800000</td>\n",
       "      <td>0.065972</td>\n",
       "      <td>0.865972</td>\n",
       "    </tr>\n",
       "  </tbody>\n",
       "</table>\n",
       "</div>"
      ],
      "text/plain": [
       "           percent_per_oct  percent_per_nov  percent_per_dec    differ  \\\n",
       "city                                                                     \n",
       "Алматы            0.787219         0.752846         0.764894  0.034373   \n",
       "Астана            0.857143         0.834163         0.839220  0.022980   \n",
       "Атырау            0.918919         0.906977         0.914894  0.011942   \n",
       "Караганда         0.927083         0.897436         0.871560  0.029647   \n",
       "Каскелен          0.727273         1.000000         0.916667  0.272727   \n",
       "Павлодар          0.929825         0.898438         0.907216  0.031387   \n",
       "Шымкент           0.843750         0.777778         0.800000  0.065972   \n",
       "\n",
       "                res  \n",
       "city                 \n",
       "Алматы     0.799267  \n",
       "Астана     0.862199  \n",
       "Атырау     0.926836  \n",
       "Караганда  0.901207  \n",
       "Каскелен   1.189394  \n",
       "Павлодар   0.938604  \n",
       "Шымкент    0.865972  "
      ]
     },
     "execution_count": 846,
     "metadata": {},
     "output_type": "execute_result"
    }
   ],
   "source": [
    "cross_table\n"
   ]
  },
  {
   "cell_type": "markdown",
   "metadata": {},
   "source": [
    "# Задание 1.2"
   ]
  },
  {
   "cell_type": "code",
   "execution_count": 847,
   "metadata": {},
   "outputs": [],
   "source": [
    "new_list_2 = pd.DataFrame(data=choco['users'].value_counts()).query('users==2')"
   ]
  },
  {
   "cell_type": "code",
   "execution_count": 848,
   "metadata": {},
   "outputs": [],
   "source": [
    "ab_2 = list(new_list_2.index)"
   ]
  },
  {
   "cell_type": "code",
   "execution_count": 849,
   "metadata": {},
   "outputs": [],
   "source": [
    "new_list = pd.DataFrame(data=choco['users'].value_counts()).query('users==1')"
   ]
  },
  {
   "cell_type": "code",
   "execution_count": 850,
   "metadata": {},
   "outputs": [],
   "source": [
    "ab = list(new_list.index)"
   ]
  },
  {
   "cell_type": "code",
   "execution_count": 851,
   "metadata": {},
   "outputs": [],
   "source": [
    "new_users = choco.query('users in @ab or month == \"Октябрь\" or (users not in @ab  and users in @ab_2 and month==\"Ноябрь\" )')\n",
    "\n"
   ]
  },
  {
   "cell_type": "code",
   "execution_count": 852,
   "metadata": {},
   "outputs": [
    {
     "data": {
      "text/html": [
       "<div>\n",
       "<style scoped>\n",
       "    .dataframe tbody tr th:only-of-type {\n",
       "        vertical-align: middle;\n",
       "    }\n",
       "\n",
       "    .dataframe tbody tr th {\n",
       "        vertical-align: top;\n",
       "    }\n",
       "\n",
       "    .dataframe thead th {\n",
       "        text-align: right;\n",
       "    }\n",
       "</style>\n",
       "<table border=\"1\" class=\"dataframe\">\n",
       "  <thead>\n",
       "    <tr style=\"text-align: right;\">\n",
       "      <th></th>\n",
       "      <th>users</th>\n",
       "      <th>month</th>\n",
       "      <th>cnt</th>\n",
       "      <th>city</th>\n",
       "      <th>point_of_rest</th>\n",
       "    </tr>\n",
       "  </thead>\n",
       "  <tbody>\n",
       "    <tr>\n",
       "      <th>0</th>\n",
       "      <td>77060876181</td>\n",
       "      <td>Декабрь</td>\n",
       "      <td>22</td>\n",
       "      <td>Алматы</td>\n",
       "      <td>Burger King Глобус</td>\n",
       "    </tr>\n",
       "    <tr>\n",
       "      <th>4</th>\n",
       "      <td>77017442374</td>\n",
       "      <td>Октябрь</td>\n",
       "      <td>16</td>\n",
       "      <td>Алматы</td>\n",
       "      <td>Burger King Глобус</td>\n",
       "    </tr>\n",
       "    <tr>\n",
       "      <th>5</th>\n",
       "      <td>77057164908</td>\n",
       "      <td>Октябрь</td>\n",
       "      <td>16</td>\n",
       "      <td>Алматы</td>\n",
       "      <td>Burger King Арман</td>\n",
       "    </tr>\n",
       "    <tr>\n",
       "      <th>14</th>\n",
       "      <td>77007633588</td>\n",
       "      <td>Октябрь</td>\n",
       "      <td>12</td>\n",
       "      <td>Алматы</td>\n",
       "      <td>Burger King Восток</td>\n",
       "    </tr>\n",
       "    <tr>\n",
       "      <th>21</th>\n",
       "      <td>77076016003</td>\n",
       "      <td>Ноябрь</td>\n",
       "      <td>11</td>\n",
       "      <td>Алматы</td>\n",
       "      <td>Чибо Сано</td>\n",
       "    </tr>\n",
       "    <tr>\n",
       "      <th>...</th>\n",
       "      <td>...</td>\n",
       "      <td>...</td>\n",
       "      <td>...</td>\n",
       "      <td>...</td>\n",
       "      <td>...</td>\n",
       "    </tr>\n",
       "    <tr>\n",
       "      <th>19957</th>\n",
       "      <td>79132138548</td>\n",
       "      <td>Октябрь</td>\n",
       "      <td>1</td>\n",
       "      <td>Алматы</td>\n",
       "      <td>Burger King Максима</td>\n",
       "    </tr>\n",
       "    <tr>\n",
       "      <th>19958</th>\n",
       "      <td>79168804858</td>\n",
       "      <td>Октябрь</td>\n",
       "      <td>1</td>\n",
       "      <td>Алматы</td>\n",
       "      <td>Burger King Арман</td>\n",
       "    </tr>\n",
       "    <tr>\n",
       "      <th>19959</th>\n",
       "      <td>79168804858</td>\n",
       "      <td>Октябрь</td>\n",
       "      <td>1</td>\n",
       "      <td>Алматы</td>\n",
       "      <td>Gippo</td>\n",
       "    </tr>\n",
       "    <tr>\n",
       "      <th>19960</th>\n",
       "      <td>79529260138</td>\n",
       "      <td>Октябрь</td>\n",
       "      <td>1</td>\n",
       "      <td>Астана</td>\n",
       "      <td>Чибо Сано</td>\n",
       "    </tr>\n",
       "    <tr>\n",
       "      <th>19961</th>\n",
       "      <td>79654015053</td>\n",
       "      <td>Ноябрь</td>\n",
       "      <td>1</td>\n",
       "      <td>Алматы</td>\n",
       "      <td>Чибо Сано</td>\n",
       "    </tr>\n",
       "  </tbody>\n",
       "</table>\n",
       "<p>15079 rows × 5 columns</p>\n",
       "</div>"
      ],
      "text/plain": [
       "             users    month  cnt    city        point_of_rest\n",
       "0      77060876181  Декабрь   22  Алматы   Burger King Глобус\n",
       "4      77017442374  Октябрь   16  Алматы   Burger King Глобус\n",
       "5      77057164908  Октябрь   16  Алматы    Burger King Арман\n",
       "14     77007633588  Октябрь   12  Алматы   Burger King Восток\n",
       "21     77076016003   Ноябрь   11  Алматы            Чибо Сано\n",
       "...            ...      ...  ...     ...                  ...\n",
       "19957  79132138548  Октябрь    1  Алматы  Burger King Максима\n",
       "19958  79168804858  Октябрь    1  Алматы    Burger King Арман\n",
       "19959  79168804858  Октябрь    1  Алматы                Gippo\n",
       "19960  79529260138  Октябрь    1  Астана            Чибо Сано\n",
       "19961  79654015053   Ноябрь    1  Алматы            Чибо Сано\n",
       "\n",
       "[15079 rows x 5 columns]"
      ]
     },
     "execution_count": 852,
     "metadata": {},
     "output_type": "execute_result"
    }
   ],
   "source": [
    "new_users"
   ]
  },
  {
   "cell_type": "code",
   "execution_count": 853,
   "metadata": {},
   "outputs": [],
   "source": [
    "new_oct = new_users.query('cnt ==1 and month==\"Октябрь\"')"
   ]
  },
  {
   "cell_type": "code",
   "execution_count": 854,
   "metadata": {},
   "outputs": [],
   "source": [
    "new = pd.pivot_table(new_oct, index = 'city', values = 'users', aggfunc='count')"
   ]
  },
  {
   "cell_type": "code",
   "execution_count": 855,
   "metadata": {},
   "outputs": [],
   "source": [
    "new['percent_per_oct'] = new_users.query('cnt ==1 and month==\"Октябрь\"').groupby('city')['users'].count() / new_users.query(' month==\"Октябрь\"').groupby('city')['users'].count()\n"
   ]
  },
  {
   "cell_type": "code",
   "execution_count": 856,
   "metadata": {},
   "outputs": [],
   "source": [
    "new['percent_per_nov'] = new_users.query('cnt ==1 and month==\"Ноябрь\"').groupby('city')['users'].count() / new_users.query(' month==\"Ноябрь\"').groupby('city')['users'].count()\n"
   ]
  },
  {
   "cell_type": "code",
   "execution_count": 857,
   "metadata": {},
   "outputs": [],
   "source": [
    "new['percent_per_dec'] = new_users.query('cnt ==1 and month==\"Декабрь\"').groupby('city')['users'].count() / new_users.query(' month==\"Декабрь\"').groupby('city')['users'].count()\n"
   ]
  },
  {
   "cell_type": "code",
   "execution_count": 858,
   "metadata": {},
   "outputs": [],
   "source": [
    "new['differ'] = abs(new['percent_per_oct']-new['percent_per_nov'])"
   ]
  },
  {
   "cell_type": "code",
   "execution_count": 859,
   "metadata": {},
   "outputs": [],
   "source": [
    "new['res'] = new['percent_per_dec'] + new['differ']"
   ]
  },
  {
   "cell_type": "code",
   "execution_count": 860,
   "metadata": {},
   "outputs": [
    {
     "data": {
      "text/html": [
       "<div>\n",
       "<style scoped>\n",
       "    .dataframe tbody tr th:only-of-type {\n",
       "        vertical-align: middle;\n",
       "    }\n",
       "\n",
       "    .dataframe tbody tr th {\n",
       "        vertical-align: top;\n",
       "    }\n",
       "\n",
       "    .dataframe thead th {\n",
       "        text-align: right;\n",
       "    }\n",
       "</style>\n",
       "<table border=\"1\" class=\"dataframe\">\n",
       "  <thead>\n",
       "    <tr style=\"text-align: right;\">\n",
       "      <th></th>\n",
       "      <th>users</th>\n",
       "      <th>percent_per_oct</th>\n",
       "      <th>percent_per_nov</th>\n",
       "      <th>percent_per_dec</th>\n",
       "      <th>differ</th>\n",
       "      <th>res</th>\n",
       "    </tr>\n",
       "    <tr>\n",
       "      <th>city</th>\n",
       "      <th></th>\n",
       "      <th></th>\n",
       "      <th></th>\n",
       "      <th></th>\n",
       "      <th></th>\n",
       "      <th></th>\n",
       "    </tr>\n",
       "  </thead>\n",
       "  <tbody>\n",
       "    <tr>\n",
       "      <th>Алматы</th>\n",
       "      <td>3326</td>\n",
       "      <td>0.787219</td>\n",
       "      <td>0.825561</td>\n",
       "      <td>0.877735</td>\n",
       "      <td>0.038342</td>\n",
       "      <td>0.916078</td>\n",
       "    </tr>\n",
       "    <tr>\n",
       "      <th>Астана</th>\n",
       "      <td>1386</td>\n",
       "      <td>0.857143</td>\n",
       "      <td>0.890462</td>\n",
       "      <td>0.915284</td>\n",
       "      <td>0.033319</td>\n",
       "      <td>0.948603</td>\n",
       "    </tr>\n",
       "    <tr>\n",
       "      <th>Атырау</th>\n",
       "      <td>34</td>\n",
       "      <td>0.918919</td>\n",
       "      <td>0.904762</td>\n",
       "      <td>0.945946</td>\n",
       "      <td>0.014157</td>\n",
       "      <td>0.960103</td>\n",
       "    </tr>\n",
       "    <tr>\n",
       "      <th>Караганда</th>\n",
       "      <td>89</td>\n",
       "      <td>0.927083</td>\n",
       "      <td>0.903509</td>\n",
       "      <td>0.925000</td>\n",
       "      <td>0.023575</td>\n",
       "      <td>0.948575</td>\n",
       "    </tr>\n",
       "    <tr>\n",
       "      <th>Каскелен</th>\n",
       "      <td>8</td>\n",
       "      <td>0.727273</td>\n",
       "      <td>1.000000</td>\n",
       "      <td>0.900000</td>\n",
       "      <td>0.272727</td>\n",
       "      <td>1.172727</td>\n",
       "    </tr>\n",
       "    <tr>\n",
       "      <th>Павлодар</th>\n",
       "      <td>106</td>\n",
       "      <td>0.929825</td>\n",
       "      <td>0.917355</td>\n",
       "      <td>0.935065</td>\n",
       "      <td>0.012469</td>\n",
       "      <td>0.947534</td>\n",
       "    </tr>\n",
       "    <tr>\n",
       "      <th>Шымкент</th>\n",
       "      <td>27</td>\n",
       "      <td>0.843750</td>\n",
       "      <td>0.779412</td>\n",
       "      <td>0.883721</td>\n",
       "      <td>0.064338</td>\n",
       "      <td>0.948059</td>\n",
       "    </tr>\n",
       "  </tbody>\n",
       "</table>\n",
       "</div>"
      ],
      "text/plain": [
       "           users  percent_per_oct  percent_per_nov  percent_per_dec    differ  \\\n",
       "city                                                                            \n",
       "Алматы      3326         0.787219         0.825561         0.877735  0.038342   \n",
       "Астана      1386         0.857143         0.890462         0.915284  0.033319   \n",
       "Атырау        34         0.918919         0.904762         0.945946  0.014157   \n",
       "Караганда     89         0.927083         0.903509         0.925000  0.023575   \n",
       "Каскелен       8         0.727273         1.000000         0.900000  0.272727   \n",
       "Павлодар     106         0.929825         0.917355         0.935065  0.012469   \n",
       "Шымкент       27         0.843750         0.779412         0.883721  0.064338   \n",
       "\n",
       "                res  \n",
       "city                 \n",
       "Алматы     0.916078  \n",
       "Астана     0.948603  \n",
       "Атырау     0.960103  \n",
       "Караганда  0.948575  \n",
       "Каскелен   1.172727  \n",
       "Павлодар   0.947534  \n",
       "Шымкент    0.948059  "
      ]
     },
     "execution_count": 860,
     "metadata": {},
     "output_type": "execute_result"
    }
   ],
   "source": [
    "new"
   ]
  },
  {
   "cell_type": "code",
   "execution_count": 861,
   "metadata": {},
   "outputs": [],
   "source": [
    "new_users_3 = list(new_users.index)"
   ]
  },
  {
   "cell_type": "code",
   "execution_count": 862,
   "metadata": {},
   "outputs": [],
   "source": [
    "old_users = choco.query('index not in @new_users_3')"
   ]
  },
  {
   "cell_type": "code",
   "execution_count": 863,
   "metadata": {},
   "outputs": [
    {
     "data": {
      "text/html": [
       "<div>\n",
       "<style scoped>\n",
       "    .dataframe tbody tr th:only-of-type {\n",
       "        vertical-align: middle;\n",
       "    }\n",
       "\n",
       "    .dataframe tbody tr th {\n",
       "        vertical-align: top;\n",
       "    }\n",
       "\n",
       "    .dataframe thead th {\n",
       "        text-align: right;\n",
       "    }\n",
       "</style>\n",
       "<table border=\"1\" class=\"dataframe\">\n",
       "  <thead>\n",
       "    <tr style=\"text-align: right;\">\n",
       "      <th></th>\n",
       "      <th>users</th>\n",
       "      <th>month</th>\n",
       "      <th>cnt</th>\n",
       "      <th>city</th>\n",
       "      <th>point_of_rest</th>\n",
       "    </tr>\n",
       "  </thead>\n",
       "  <tbody>\n",
       "    <tr>\n",
       "      <th>1</th>\n",
       "      <td>77026047434</td>\n",
       "      <td>Ноябрь</td>\n",
       "      <td>19</td>\n",
       "      <td>Алматы</td>\n",
       "      <td>Burger King Арман</td>\n",
       "    </tr>\n",
       "    <tr>\n",
       "      <th>2</th>\n",
       "      <td>77081501337</td>\n",
       "      <td>Ноябрь</td>\n",
       "      <td>18</td>\n",
       "      <td>Шымкент</td>\n",
       "      <td>Три Самурая</td>\n",
       "    </tr>\n",
       "    <tr>\n",
       "      <th>3</th>\n",
       "      <td>77057164908</td>\n",
       "      <td>Ноябрь</td>\n",
       "      <td>17</td>\n",
       "      <td>Алматы</td>\n",
       "      <td>Burger King Арман</td>\n",
       "    </tr>\n",
       "    <tr>\n",
       "      <th>6</th>\n",
       "      <td>77057164908</td>\n",
       "      <td>Декабрь</td>\n",
       "      <td>16</td>\n",
       "      <td>Алматы</td>\n",
       "      <td>Burger King Арман</td>\n",
       "    </tr>\n",
       "    <tr>\n",
       "      <th>7</th>\n",
       "      <td>77058174933</td>\n",
       "      <td>Ноябрь</td>\n",
       "      <td>16</td>\n",
       "      <td>Астана</td>\n",
       "      <td>Burger King Silk Way</td>\n",
       "    </tr>\n",
       "    <tr>\n",
       "      <th>...</th>\n",
       "      <td>...</td>\n",
       "      <td>...</td>\n",
       "      <td>...</td>\n",
       "      <td>...</td>\n",
       "      <td>...</td>\n",
       "    </tr>\n",
       "    <tr>\n",
       "      <th>19894</th>\n",
       "      <td>77789542780</td>\n",
       "      <td>Декабрь</td>\n",
       "      <td>1</td>\n",
       "      <td>Астана</td>\n",
       "      <td>Burger King Keruen City</td>\n",
       "    </tr>\n",
       "    <tr>\n",
       "      <th>19913</th>\n",
       "      <td>77789622188</td>\n",
       "      <td>Декабрь</td>\n",
       "      <td>1</td>\n",
       "      <td>Астана</td>\n",
       "      <td>KFC</td>\n",
       "    </tr>\n",
       "    <tr>\n",
       "      <th>19920</th>\n",
       "      <td>77789666926</td>\n",
       "      <td>Декабрь</td>\n",
       "      <td>1</td>\n",
       "      <td>Астана</td>\n",
       "      <td>Burger King Keruen City</td>\n",
       "    </tr>\n",
       "    <tr>\n",
       "      <th>19925</th>\n",
       "      <td>77789712777</td>\n",
       "      <td>Декабрь</td>\n",
       "      <td>1</td>\n",
       "      <td>Алматы</td>\n",
       "      <td>Burger King Восток</td>\n",
       "    </tr>\n",
       "    <tr>\n",
       "      <th>19933</th>\n",
       "      <td>77789804836</td>\n",
       "      <td>Декабрь</td>\n",
       "      <td>1</td>\n",
       "      <td>Алматы</td>\n",
       "      <td>Gippo</td>\n",
       "    </tr>\n",
       "  </tbody>\n",
       "</table>\n",
       "<p>4883 rows × 5 columns</p>\n",
       "</div>"
      ],
      "text/plain": [
       "             users    month  cnt     city            point_of_rest\n",
       "1      77026047434   Ноябрь   19   Алматы        Burger King Арман\n",
       "2      77081501337   Ноябрь   18  Шымкент              Три Самурая\n",
       "3      77057164908   Ноябрь   17   Алматы        Burger King Арман\n",
       "6      77057164908  Декабрь   16   Алматы        Burger King Арман\n",
       "7      77058174933   Ноябрь   16   Астана     Burger King Silk Way\n",
       "...            ...      ...  ...      ...                      ...\n",
       "19894  77789542780  Декабрь    1   Астана  Burger King Keruen City\n",
       "19913  77789622188  Декабрь    1   Астана                      KFC\n",
       "19920  77789666926  Декабрь    1   Астана  Burger King Keruen City\n",
       "19925  77789712777  Декабрь    1   Алматы       Burger King Восток\n",
       "19933  77789804836  Декабрь    1   Алматы                    Gippo\n",
       "\n",
       "[4883 rows x 5 columns]"
      ]
     },
     "execution_count": 863,
     "metadata": {},
     "output_type": "execute_result"
    }
   ],
   "source": [
    "old_users"
   ]
  },
  {
   "cell_type": "code",
   "execution_count": 864,
   "metadata": {},
   "outputs": [],
   "source": [
    "old_nov = old_users.query('cnt ==1 and month==\"Ноябрь\"')"
   ]
  },
  {
   "cell_type": "code",
   "execution_count": 865,
   "metadata": {},
   "outputs": [],
   "source": [
    "old = pd.pivot_table(old_nov, index = 'city', values = 'users', aggfunc='count')"
   ]
  },
  {
   "cell_type": "code",
   "execution_count": 866,
   "metadata": {},
   "outputs": [],
   "source": [
    "old.columns = ['percent_per_nov']"
   ]
  },
  {
   "cell_type": "code",
   "execution_count": 867,
   "metadata": {},
   "outputs": [],
   "source": [
    "old['percent_per_nov'] = old_users.query('cnt ==1 and month==\"Ноябрь\"').groupby('city')['users'].count() / old_users.query(' month==\"Ноябрь\"').groupby('city')['users'].count()\n"
   ]
  },
  {
   "cell_type": "code",
   "execution_count": 868,
   "metadata": {},
   "outputs": [],
   "source": [
    "old['percent_per_dec'] = old_users.query('cnt ==1 and month==\"Декабрь\"').groupby('city')['users'].count() / old_users.query(' month==\"Декабрь\"').groupby('city')['users'].count()\n"
   ]
  },
  {
   "cell_type": "code",
   "execution_count": 869,
   "metadata": {},
   "outputs": [],
   "source": [
    "old['dif'] = old['percent_per_dec'] + abs(old['percent_per_nov'] - old['percent_per_dec'])"
   ]
  },
  {
   "cell_type": "code",
   "execution_count": 870,
   "metadata": {},
   "outputs": [
    {
     "data": {
      "text/html": [
       "<div>\n",
       "<style scoped>\n",
       "    .dataframe tbody tr th:only-of-type {\n",
       "        vertical-align: middle;\n",
       "    }\n",
       "\n",
       "    .dataframe tbody tr th {\n",
       "        vertical-align: top;\n",
       "    }\n",
       "\n",
       "    .dataframe thead th {\n",
       "        text-align: right;\n",
       "    }\n",
       "</style>\n",
       "<table border=\"1\" class=\"dataframe\">\n",
       "  <thead>\n",
       "    <tr style=\"text-align: right;\">\n",
       "      <th></th>\n",
       "      <th>percent_per_nov</th>\n",
       "      <th>percent_per_dec</th>\n",
       "      <th>dif</th>\n",
       "    </tr>\n",
       "    <tr>\n",
       "      <th>city</th>\n",
       "      <th></th>\n",
       "      <th></th>\n",
       "      <th></th>\n",
       "    </tr>\n",
       "  </thead>\n",
       "  <tbody>\n",
       "    <tr>\n",
       "      <th>Алматы</th>\n",
       "      <td>0.566691</td>\n",
       "      <td>0.660816</td>\n",
       "      <td>0.754941</td>\n",
       "    </tr>\n",
       "    <tr>\n",
       "      <th>Астана</th>\n",
       "      <td>0.595300</td>\n",
       "      <td>0.723404</td>\n",
       "      <td>0.851508</td>\n",
       "    </tr>\n",
       "    <tr>\n",
       "      <th>Атырау</th>\n",
       "      <td>1.000000</td>\n",
       "      <td>0.800000</td>\n",
       "      <td>1.000000</td>\n",
       "    </tr>\n",
       "    <tr>\n",
       "      <th>Караганда</th>\n",
       "      <td>0.666667</td>\n",
       "      <td>0.724138</td>\n",
       "      <td>0.781609</td>\n",
       "    </tr>\n",
       "    <tr>\n",
       "      <th>Павлодар</th>\n",
       "      <td>0.571429</td>\n",
       "      <td>0.800000</td>\n",
       "      <td>1.028571</td>\n",
       "    </tr>\n",
       "    <tr>\n",
       "      <th>Шымкент</th>\n",
       "      <td>0.769231</td>\n",
       "      <td>0.666667</td>\n",
       "      <td>0.769231</td>\n",
       "    </tr>\n",
       "  </tbody>\n",
       "</table>\n",
       "</div>"
      ],
      "text/plain": [
       "           percent_per_nov  percent_per_dec       dif\n",
       "city                                                 \n",
       "Алматы            0.566691         0.660816  0.754941\n",
       "Астана            0.595300         0.723404  0.851508\n",
       "Атырау            1.000000         0.800000  1.000000\n",
       "Караганда         0.666667         0.724138  0.781609\n",
       "Павлодар          0.571429         0.800000  1.028571\n",
       "Шымкент           0.769231         0.666667  0.769231"
      ]
     },
     "execution_count": 870,
     "metadata": {},
     "output_type": "execute_result"
    }
   ],
   "source": [
    "old"
   ]
  },
  {
   "cell_type": "markdown",
   "metadata": {},
   "source": [
    "# Задание 1.3- 1.4"
   ]
  },
  {
   "cell_type": "markdown",
   "metadata": {},
   "source": [
    "Наиболее качественная база пользователей у Burger King"
   ]
  },
  {
   "cell_type": "code",
   "execution_count": 871,
   "metadata": {},
   "outputs": [],
   "source": [
    "cross_table_3 = pd.pivot_table(choco, index = ['point_of_rest', 'city'], values = 'cnt', aggfunc='mean').sort_values(by = 'cnt')\n"
   ]
  },
  {
   "cell_type": "code",
   "execution_count": 872,
   "metadata": {},
   "outputs": [
    {
     "data": {
      "text/html": [
       "<div>\n",
       "<style scoped>\n",
       "    .dataframe tbody tr th:only-of-type {\n",
       "        vertical-align: middle;\n",
       "    }\n",
       "\n",
       "    .dataframe tbody tr th {\n",
       "        vertical-align: top;\n",
       "    }\n",
       "\n",
       "    .dataframe thead th {\n",
       "        text-align: right;\n",
       "    }\n",
       "</style>\n",
       "<table border=\"1\" class=\"dataframe\">\n",
       "  <thead>\n",
       "    <tr style=\"text-align: right;\">\n",
       "      <th></th>\n",
       "      <th></th>\n",
       "      <th>cnt</th>\n",
       "    </tr>\n",
       "    <tr>\n",
       "      <th>point_of_rest</th>\n",
       "      <th>city</th>\n",
       "      <th></th>\n",
       "    </tr>\n",
       "  </thead>\n",
       "  <tbody>\n",
       "    <tr>\n",
       "      <th rowspan=\"4\" valign=\"top\">Три Самурая</th>\n",
       "      <th>Уральск</th>\n",
       "      <td>1.000000</td>\n",
       "    </tr>\n",
       "    <tr>\n",
       "      <th>Астана</th>\n",
       "      <td>1.000000</td>\n",
       "    </tr>\n",
       "    <tr>\n",
       "      <th>Караганда</th>\n",
       "      <td>1.082353</td>\n",
       "    </tr>\n",
       "    <tr>\n",
       "      <th>Алматы</th>\n",
       "      <td>1.114155</td>\n",
       "    </tr>\n",
       "    <tr>\n",
       "      <th>KFC</th>\n",
       "      <th>Караганда</th>\n",
       "      <td>1.128889</td>\n",
       "    </tr>\n",
       "    <tr>\n",
       "      <th>Три Самурая</th>\n",
       "      <th>Каскелен</th>\n",
       "      <td>1.129032</td>\n",
       "    </tr>\n",
       "    <tr>\n",
       "      <th rowspan=\"2\" valign=\"top\">KFC</th>\n",
       "      <th>Павлодар</th>\n",
       "      <td>1.138643</td>\n",
       "    </tr>\n",
       "    <tr>\n",
       "      <th>Астана</th>\n",
       "      <td>1.142162</td>\n",
       "    </tr>\n",
       "    <tr>\n",
       "      <th>Три Самурая</th>\n",
       "      <th>Атырау</th>\n",
       "      <td>1.149606</td>\n",
       "    </tr>\n",
       "    <tr>\n",
       "      <th rowspan=\"2\" valign=\"top\">Gippo</th>\n",
       "      <th>Алматы</th>\n",
       "      <td>1.240538</td>\n",
       "    </tr>\n",
       "    <tr>\n",
       "      <th>Астана</th>\n",
       "      <td>1.255376</td>\n",
       "    </tr>\n",
       "    <tr>\n",
       "      <th>Чибо Сано</th>\n",
       "      <th>Астана</th>\n",
       "      <td>1.286219</td>\n",
       "    </tr>\n",
       "    <tr>\n",
       "      <th>Gippo</th>\n",
       "      <th>Шымкент</th>\n",
       "      <td>1.316547</td>\n",
       "    </tr>\n",
       "    <tr>\n",
       "      <th>Burger King Москва</th>\n",
       "      <th>Алматы</th>\n",
       "      <td>1.321503</td>\n",
       "    </tr>\n",
       "    <tr>\n",
       "      <th>Burger King Конгресс Холл</th>\n",
       "      <th>Астана</th>\n",
       "      <td>1.380653</td>\n",
       "    </tr>\n",
       "    <tr>\n",
       "      <th>Burger King ADK</th>\n",
       "      <th>Алматы</th>\n",
       "      <td>1.391081</td>\n",
       "    </tr>\n",
       "    <tr>\n",
       "      <th>Burger King Максима</th>\n",
       "      <th>Алматы</th>\n",
       "      <td>1.393617</td>\n",
       "    </tr>\n",
       "    <tr>\n",
       "      <th>Burger King City Center</th>\n",
       "      <th>Алматы</th>\n",
       "      <td>1.397924</td>\n",
       "    </tr>\n",
       "    <tr>\n",
       "      <th>Чибо Сано</th>\n",
       "      <th>Алматы</th>\n",
       "      <td>1.403819</td>\n",
       "    </tr>\n",
       "    <tr>\n",
       "      <th>Burger King Keruen City</th>\n",
       "      <th>Астана</th>\n",
       "      <td>1.416572</td>\n",
       "    </tr>\n",
       "    <tr>\n",
       "      <th>Burger King Silk Way</th>\n",
       "      <th>Астана</th>\n",
       "      <td>1.441860</td>\n",
       "    </tr>\n",
       "    <tr>\n",
       "      <th>Burger King Mega</th>\n",
       "      <th>Алматы</th>\n",
       "      <td>1.482652</td>\n",
       "    </tr>\n",
       "    <tr>\n",
       "      <th>Burger King Глобус</th>\n",
       "      <th>Алматы</th>\n",
       "      <td>1.498024</td>\n",
       "    </tr>\n",
       "    <tr>\n",
       "      <th>Burger King Арман</th>\n",
       "      <th>Алматы</th>\n",
       "      <td>1.522242</td>\n",
       "    </tr>\n",
       "    <tr>\n",
       "      <th>Burger King Восток</th>\n",
       "      <th>Алматы</th>\n",
       "      <td>1.586187</td>\n",
       "    </tr>\n",
       "    <tr>\n",
       "      <th>Zheka`s doner house</th>\n",
       "      <th>Караганда</th>\n",
       "      <td>1.666667</td>\n",
       "    </tr>\n",
       "    <tr>\n",
       "      <th>Три Самурая</th>\n",
       "      <th>Шымкент</th>\n",
       "      <td>1.772727</td>\n",
       "    </tr>\n",
       "  </tbody>\n",
       "</table>\n",
       "</div>"
      ],
      "text/plain": [
       "                                          cnt\n",
       "point_of_rest             city               \n",
       "Три Самурая               Уральск    1.000000\n",
       "                          Астана     1.000000\n",
       "                          Караганда  1.082353\n",
       "                          Алматы     1.114155\n",
       "KFC                       Караганда  1.128889\n",
       "Три Самурая               Каскелен   1.129032\n",
       "KFC                       Павлодар   1.138643\n",
       "                          Астана     1.142162\n",
       "Три Самурая               Атырау     1.149606\n",
       "Gippo                     Алматы     1.240538\n",
       "                          Астана     1.255376\n",
       "Чибо Сано                 Астана     1.286219\n",
       "Gippo                     Шымкент    1.316547\n",
       "Burger King Москва        Алматы     1.321503\n",
       "Burger King Конгресс Холл Астана     1.380653\n",
       "Burger King ADK           Алматы     1.391081\n",
       "Burger King Максима       Алматы     1.393617\n",
       "Burger King City Center   Алматы     1.397924\n",
       "Чибо Сано                 Алматы     1.403819\n",
       "Burger King Keruen City   Астана     1.416572\n",
       "Burger King Silk Way      Астана     1.441860\n",
       "Burger King Mega          Алматы     1.482652\n",
       "Burger King Глобус        Алматы     1.498024\n",
       "Burger King Арман         Алматы     1.522242\n",
       "Burger King Восток        Алматы     1.586187\n",
       "Zheka`s doner house       Караганда  1.666667\n",
       "Три Самурая               Шымкент    1.772727"
      ]
     },
     "execution_count": 872,
     "metadata": {},
     "output_type": "execute_result"
    }
   ],
   "source": [
    "cross_table_3"
   ]
  },
  {
   "cell_type": "markdown",
   "metadata": {},
   "source": [
    "Сравним среднее количество заказов в Астане и Алматы"
   ]
  },
  {
   "cell_type": "code",
   "execution_count": 873,
   "metadata": {},
   "outputs": [
    {
     "data": {
      "text/plain": [
       "1.4059656218402428"
      ]
     },
     "execution_count": 873,
     "metadata": {},
     "output_type": "execute_result"
    }
   ],
   "source": [
    "choco.query('point_of_rest.str.contains(\"Burger King\")and city == \"Астана\"', engine='python')['cnt'].mean()"
   ]
  },
  {
   "cell_type": "code",
   "execution_count": 874,
   "metadata": {},
   "outputs": [
    {
     "data": {
      "text/plain": [
       "1.4865995554974507"
      ]
     },
     "execution_count": 874,
     "metadata": {},
     "output_type": "execute_result"
    }
   ],
   "source": [
    "choco.query('point_of_rest.str.contains(\"Burger King\")and city == \"Алматы\"', engine='python')['cnt'].mean()"
   ]
  },
  {
   "cell_type": "markdown",
   "metadata": {},
   "source": [
    "В Алматы среднее количество заказов выше"
   ]
  },
  {
   "cell_type": "code",
   "execution_count": 875,
   "metadata": {},
   "outputs": [
    {
     "data": {
      "text/plain": [
       "point_of_rest\n",
       "Burger King Москва         1.321503\n",
       "Burger King ADK            1.391081\n",
       "Burger King Максима        1.393617\n",
       "Burger King City Center    1.397924\n",
       "Burger King Mega           1.482652\n",
       "Burger King Глобус         1.498024\n",
       "Burger King Арман          1.522242\n",
       "Burger King Восток         1.586187\n",
       "Name: cnt, dtype: float64"
      ]
     },
     "execution_count": 875,
     "metadata": {},
     "output_type": "execute_result"
    }
   ],
   "source": [
    "choco.query('point_of_rest.str.contains(\"Burger King\")and city == \"Алматы\"', engine='python').groupby('point_of_rest')['cnt'].mean().sort_values()\n"
   ]
  },
  {
   "cell_type": "markdown",
   "metadata": {},
   "source": [
    "Лидером оказался: Burger King Восток "
   ]
  },
  {
   "cell_type": "markdown",
   "metadata": {},
   "source": [
    "# Задание 2"
   ]
  },
  {
   "cell_type": "code",
   "execution_count": 876,
   "metadata": {},
   "outputs": [],
   "source": [
    "choco_2 = pd.read_excel('Test for Marketing Analyst.xlsx', sheet_name = 'Данные к Заданию 2')"
   ]
  },
  {
   "cell_type": "code",
   "execution_count": 877,
   "metadata": {},
   "outputs": [],
   "source": [
    "choco_2.columns = ['users', 'month', 'cnt', 'city']"
   ]
  },
  {
   "cell_type": "code",
   "execution_count": 878,
   "metadata": {},
   "outputs": [
    {
     "data": {
      "text/html": [
       "<div>\n",
       "<style scoped>\n",
       "    .dataframe tbody tr th:only-of-type {\n",
       "        vertical-align: middle;\n",
       "    }\n",
       "\n",
       "    .dataframe tbody tr th {\n",
       "        vertical-align: top;\n",
       "    }\n",
       "\n",
       "    .dataframe thead th {\n",
       "        text-align: right;\n",
       "    }\n",
       "</style>\n",
       "<table border=\"1\" class=\"dataframe\">\n",
       "  <thead>\n",
       "    <tr style=\"text-align: right;\">\n",
       "      <th></th>\n",
       "      <th>users</th>\n",
       "      <th>month</th>\n",
       "      <th>cnt</th>\n",
       "      <th>city</th>\n",
       "    </tr>\n",
       "  </thead>\n",
       "  <tbody>\n",
       "    <tr>\n",
       "      <th>0</th>\n",
       "      <td>77550509055</td>\n",
       "      <td>Январь</td>\n",
       "      <td>1</td>\n",
       "      <td>Алматы</td>\n",
       "    </tr>\n",
       "    <tr>\n",
       "      <th>1</th>\n",
       "      <td>77559020355</td>\n",
       "      <td>Январь</td>\n",
       "      <td>1</td>\n",
       "      <td>Шымкент</td>\n",
       "    </tr>\n",
       "    <tr>\n",
       "      <th>2</th>\n",
       "      <td>77050513951</td>\n",
       "      <td>Январь</td>\n",
       "      <td>2</td>\n",
       "      <td>Алматы</td>\n",
       "    </tr>\n",
       "    <tr>\n",
       "      <th>3</th>\n",
       "      <td>77020502298</td>\n",
       "      <td>Январь</td>\n",
       "      <td>1</td>\n",
       "      <td>Алматы</td>\n",
       "    </tr>\n",
       "    <tr>\n",
       "      <th>4</th>\n",
       "      <td>77067037070</td>\n",
       "      <td>Январь</td>\n",
       "      <td>1</td>\n",
       "      <td>Алматы</td>\n",
       "    </tr>\n",
       "    <tr>\n",
       "      <th>...</th>\n",
       "      <td>...</td>\n",
       "      <td>...</td>\n",
       "      <td>...</td>\n",
       "      <td>...</td>\n",
       "    </tr>\n",
       "    <tr>\n",
       "      <th>7949</th>\n",
       "      <td>77789555370</td>\n",
       "      <td>Декабрь</td>\n",
       "      <td>1</td>\n",
       "      <td>Атырау</td>\n",
       "    </tr>\n",
       "    <tr>\n",
       "      <th>7950</th>\n",
       "      <td>77789527552</td>\n",
       "      <td>Декабрь</td>\n",
       "      <td>1</td>\n",
       "      <td>Атырау</td>\n",
       "    </tr>\n",
       "    <tr>\n",
       "      <th>7951</th>\n",
       "      <td>77789955905</td>\n",
       "      <td>Декабрь</td>\n",
       "      <td>2</td>\n",
       "      <td>Атырау</td>\n",
       "    </tr>\n",
       "    <tr>\n",
       "      <th>7952</th>\n",
       "      <td>77789827896</td>\n",
       "      <td>Декабрь</td>\n",
       "      <td>1</td>\n",
       "      <td>Атырау</td>\n",
       "    </tr>\n",
       "    <tr>\n",
       "      <th>7953</th>\n",
       "      <td>77789955528</td>\n",
       "      <td>Декабрь</td>\n",
       "      <td>1</td>\n",
       "      <td>Атырау</td>\n",
       "    </tr>\n",
       "  </tbody>\n",
       "</table>\n",
       "<p>7954 rows × 4 columns</p>\n",
       "</div>"
      ],
      "text/plain": [
       "            users    month  cnt     city\n",
       "0     77550509055   Январь    1   Алматы\n",
       "1     77559020355   Январь    1  Шымкент\n",
       "2     77050513951   Январь    2   Алматы\n",
       "3     77020502298   Январь    1   Алматы\n",
       "4     77067037070   Январь    1   Алматы\n",
       "...           ...      ...  ...      ...\n",
       "7949  77789555370  Декабрь    1   Атырау\n",
       "7950  77789527552  Декабрь    1   Атырау\n",
       "7951  77789955905  Декабрь    2   Атырау\n",
       "7952  77789827896  Декабрь    1   Атырау\n",
       "7953  77789955528  Декабрь    1   Атырау\n",
       "\n",
       "[7954 rows x 4 columns]"
      ]
     },
     "execution_count": 878,
     "metadata": {},
     "output_type": "execute_result"
    }
   ],
   "source": [
    "choco_2"
   ]
  },
  {
   "cell_type": "code",
   "execution_count": 879,
   "metadata": {},
   "outputs": [],
   "source": [
    "active_april = choco_2.query('(month==\"Февраль\" and cnt>=1) or (month==\"Март\" and cnt>=1) or (month==\"Апрель\" and cnt>=1)').groupby('month')['cnt'].sum()"
   ]
  },
  {
   "cell_type": "code",
   "execution_count": 880,
   "metadata": {},
   "outputs": [],
   "source": [
    "active_may = choco_2.query('(month == [\"Февраль\", \"Март\", \"Апрель\",\"Май\"])').groupby('month')['cnt'].sum()\n"
   ]
  },
  {
   "cell_type": "code",
   "execution_count": 881,
   "metadata": {},
   "outputs": [],
   "source": [
    "choco_jan = choco_2.query('month==\"Февраль\"')"
   ]
  },
  {
   "cell_type": "code",
   "execution_count": 882,
   "metadata": {},
   "outputs": [],
   "source": [
    "choco_feb = choco_2.query('month==[\"Февраль\",\"Январь\"]')"
   ]
  },
  {
   "cell_type": "code",
   "execution_count": 883,
   "metadata": {},
   "outputs": [],
   "source": [
    "choco_feb_jan = choco_2.query('month==[\"Февраль\",\"Январь\",\"Март\"]')"
   ]
  },
  {
   "cell_type": "code",
   "execution_count": 884,
   "metadata": {},
   "outputs": [],
   "source": [
    "choco_feb_jan_mar = choco_2.query('month==[\"Февраль\",\"Январь\",\"Март\"]')"
   ]
  },
  {
   "cell_type": "code",
   "execution_count": 885,
   "metadata": {},
   "outputs": [],
   "source": [
    "choco_feb_jan_mar_apr = choco_2.query('month==[\"Февраль\",\"Январь\",\"Март\", \"Апрель\"]')"
   ]
  },
  {
   "cell_type": "code",
   "execution_count": 886,
   "metadata": {},
   "outputs": [],
   "source": [
    "choco_feb_jan_mar_apr_july = choco_2.query('month==[\"Февраль\",\"Январь\",\"Март\", \"Апрель\", \"Июль\"]')"
   ]
  },
  {
   "cell_type": "code",
   "execution_count": 887,
   "metadata": {},
   "outputs": [],
   "source": [
    "choco_feb_jan_mar_apr_july_aug = choco_2.query('month==[\"Февраль\",\"Январь\",\"Март\", \"Апрель\", \"Июль\", \"Август\"]')"
   ]
  },
  {
   "cell_type": "code",
   "execution_count": 888,
   "metadata": {},
   "outputs": [],
   "source": [
    "choco_feb_jan_mar_apr_july_aug_sep = choco_2.query('month==[\"Февраль\",\"Январь\",\"Март\", \"Апрель\", \"Июль\", \"Август\", \"Сентябрь\"]')\n"
   ]
  },
  {
   "cell_type": "code",
   "execution_count": 889,
   "metadata": {},
   "outputs": [],
   "source": [
    "choco_feb_jan_mar_apr_july_aug_sep_oct = choco_2.query('month==[\"Февраль\",\"Январь\",\"Март\", \"Апрель\", \"Июль\", \"Август\", \"Сентябрь\", \"Октябрь\"]')\n"
   ]
  },
  {
   "cell_type": "code",
   "execution_count": 890,
   "metadata": {},
   "outputs": [],
   "source": [
    "choco_feb_jan_mar_apr_july_aug_sep_oct_nov = choco_2.query('month==[\"Февраль\",\"Январь\",\"Март\", \"Апрель\", \"Июль\", \"Август\", \"Сентябрь\", \"Октябрь\", \"Ноябрь\"]')\n",
    "\n"
   ]
  },
  {
   "cell_type": "code",
   "execution_count": 891,
   "metadata": {},
   "outputs": [],
   "source": [
    "new_jan= choco_2.query('(month==\"Январь\" and cnt>=1) and (users not in @choco_jan) ').groupby('month')['cnt'].sum()"
   ]
  },
  {
   "cell_type": "code",
   "execution_count": 892,
   "metadata": {},
   "outputs": [],
   "source": [
    "new_feb= choco_2.query('(month==\"Февраль\" and cnt>=1) and (users not in @choco_feb) ').groupby('month')['cnt'].sum()"
   ]
  },
  {
   "cell_type": "code",
   "execution_count": 893,
   "metadata": {},
   "outputs": [],
   "source": [
    "new_march= choco_2.query('(month==\"Март\" and cnt>=1) and (users not in @choco_feb_jan) ').groupby('month')['cnt'].sum()"
   ]
  },
  {
   "cell_type": "code",
   "execution_count": 894,
   "metadata": {},
   "outputs": [],
   "source": [
    "new_april = choco_2.query('(month==\"Апрель\" and cnt>=1) and (users not in @choco_feb_jan_mar) ').groupby('month')['cnt'].sum()"
   ]
  },
  {
   "cell_type": "code",
   "execution_count": 895,
   "metadata": {},
   "outputs": [],
   "source": [
    "new_july = choco_2.query('(month==\"Июль\" and cnt>=1) and (users not in @choco_feb_jan_mar_apr) ').groupby('month')['cnt'].sum()"
   ]
  },
  {
   "cell_type": "code",
   "execution_count": 896,
   "metadata": {},
   "outputs": [],
   "source": [
    "new_august =  choco_2.query('(month==\"Август\" and cnt>=1) and (users not in @choco_feb_jan_mar_apr_july) ').groupby('month')['cnt'].sum()"
   ]
  },
  {
   "cell_type": "code",
   "execution_count": 897,
   "metadata": {},
   "outputs": [],
   "source": [
    "new_sep =  choco_2.query('(month==\"Сентябрь\" and cnt>=1) and (users not in @choco_feb_jan_mar_apr_july_aug) ').groupby('month')['cnt'].sum()"
   ]
  },
  {
   "cell_type": "code",
   "execution_count": 898,
   "metadata": {},
   "outputs": [],
   "source": [
    "new_oct =  choco_2.query('(month==\"Октябрь\" and cnt>=1) and (users not in @choco_feb_jan_mar_apr_july_aug_sep) ').groupby('month')['cnt'].sum()\n"
   ]
  },
  {
   "cell_type": "code",
   "execution_count": 899,
   "metadata": {},
   "outputs": [],
   "source": [
    "new_nov =  choco_2.query('(month==\"Ноябрь\" and cnt>=1) and (users not in @choco_feb_jan_mar_apr_july_aug_sep_oct) ').groupby('month')['cnt'].sum()\n"
   ]
  },
  {
   "cell_type": "code",
   "execution_count": 900,
   "metadata": {},
   "outputs": [],
   "source": [
    "new_dec =  choco_2.query('(month==\"Декабрь\" and cnt>=1) and (users not in @choco_feb_jan_mar_apr_july_aug_sep_oct_nov) ').groupby('month')['cnt'].sum()\n"
   ]
  },
  {
   "cell_type": "code",
   "execution_count": 903,
   "metadata": {},
   "outputs": [],
   "source": [
    "cross_table_4 = pd.pivot_table(choco_2, index = 'month', values = 'users', aggfunc='count')"
   ]
  },
  {
   "cell_type": "code",
   "execution_count": 904,
   "metadata": {},
   "outputs": [],
   "source": [
    "del cross_table_4['users']"
   ]
  },
  {
   "cell_type": "code",
   "execution_count": 905,
   "metadata": {},
   "outputs": [
    {
     "data": {
      "text/html": [
       "<div>\n",
       "<style scoped>\n",
       "    .dataframe tbody tr th:only-of-type {\n",
       "        vertical-align: middle;\n",
       "    }\n",
       "\n",
       "    .dataframe tbody tr th {\n",
       "        vertical-align: top;\n",
       "    }\n",
       "\n",
       "    .dataframe thead th {\n",
       "        text-align: right;\n",
       "    }\n",
       "</style>\n",
       "<table border=\"1\" class=\"dataframe\">\n",
       "  <thead>\n",
       "    <tr style=\"text-align: right;\">\n",
       "      <th></th>\n",
       "    </tr>\n",
       "    <tr>\n",
       "      <th>month</th>\n",
       "    </tr>\n",
       "  </thead>\n",
       "  <tbody>\n",
       "    <tr>\n",
       "      <th>Август</th>\n",
       "    </tr>\n",
       "    <tr>\n",
       "      <th>Апрель</th>\n",
       "    </tr>\n",
       "    <tr>\n",
       "      <th>Декабрь</th>\n",
       "    </tr>\n",
       "    <tr>\n",
       "      <th>Июль</th>\n",
       "    </tr>\n",
       "    <tr>\n",
       "      <th>Март</th>\n",
       "    </tr>\n",
       "    <tr>\n",
       "      <th>Ноябрь</th>\n",
       "    </tr>\n",
       "    <tr>\n",
       "      <th>Октябрь</th>\n",
       "    </tr>\n",
       "    <tr>\n",
       "      <th>Сентябрь</th>\n",
       "    </tr>\n",
       "    <tr>\n",
       "      <th>Февраль</th>\n",
       "    </tr>\n",
       "    <tr>\n",
       "      <th>Январь</th>\n",
       "    </tr>\n",
       "  </tbody>\n",
       "</table>\n",
       "</div>"
      ],
      "text/plain": [
       "Empty DataFrame\n",
       "Columns: []\n",
       "Index: [Август, Апрель, Декабрь, Июль, Март, Ноябрь, Октябрь, Сентябрь, Февраль, Январь]"
      ]
     },
     "execution_count": 905,
     "metadata": {},
     "output_type": "execute_result"
    }
   ],
   "source": [
    "cross_table_4"
   ]
  },
  {
   "cell_type": "code",
   "execution_count": 906,
   "metadata": {},
   "outputs": [],
   "source": [
    "cross_table_4['active'] = active_april"
   ]
  },
  {
   "cell_type": "code",
   "execution_count": 907,
   "metadata": {},
   "outputs": [],
   "source": [
    "cross_table_4.loc[['Январь'], ['new']] = new_jan"
   ]
  },
  {
   "cell_type": "code",
   "execution_count": 908,
   "metadata": {},
   "outputs": [],
   "source": [
    "cross_table_4.loc[['Февраль'], ['new']] = new_feb"
   ]
  },
  {
   "cell_type": "code",
   "execution_count": 909,
   "metadata": {},
   "outputs": [],
   "source": [
    "cross_table_4.loc[['Март'], ['new']] = new_march"
   ]
  },
  {
   "cell_type": "code",
   "execution_count": 910,
   "metadata": {},
   "outputs": [],
   "source": [
    "cross_table_4.loc[['Апрель'], ['new']] = new_april"
   ]
  },
  {
   "cell_type": "code",
   "execution_count": 911,
   "metadata": {},
   "outputs": [],
   "source": [
    "cross_table_4.loc[['Июль'], ['new']] = new_july"
   ]
  },
  {
   "cell_type": "code",
   "execution_count": 912,
   "metadata": {},
   "outputs": [],
   "source": [
    "cross_table_4.loc[['Август'], ['new']] = new_august"
   ]
  },
  {
   "cell_type": "code",
   "execution_count": 913,
   "metadata": {},
   "outputs": [],
   "source": [
    "cross_table_4.loc[['Сентябрь'], ['new']] = new_sep"
   ]
  },
  {
   "cell_type": "code",
   "execution_count": 914,
   "metadata": {},
   "outputs": [],
   "source": [
    "cross_table_4.loc[['Октябрь'], ['new']] = new_oct"
   ]
  },
  {
   "cell_type": "code",
   "execution_count": 915,
   "metadata": {},
   "outputs": [],
   "source": [
    "cross_table_4.loc[['Ноябрь'], ['new']] = new_nov"
   ]
  },
  {
   "cell_type": "code",
   "execution_count": 916,
   "metadata": {},
   "outputs": [],
   "source": [
    "cross_table_4.loc[['Декабрь'], ['new']] = new_dec"
   ]
  },
  {
   "cell_type": "code",
   "execution_count": 918,
   "metadata": {},
   "outputs": [
    {
     "data": {
      "text/html": [
       "<div>\n",
       "<style scoped>\n",
       "    .dataframe tbody tr th:only-of-type {\n",
       "        vertical-align: middle;\n",
       "    }\n",
       "\n",
       "    .dataframe tbody tr th {\n",
       "        vertical-align: top;\n",
       "    }\n",
       "\n",
       "    .dataframe thead th {\n",
       "        text-align: right;\n",
       "    }\n",
       "</style>\n",
       "<table border=\"1\" class=\"dataframe\">\n",
       "  <thead>\n",
       "    <tr style=\"text-align: right;\">\n",
       "      <th></th>\n",
       "      <th>active</th>\n",
       "      <th>new</th>\n",
       "    </tr>\n",
       "    <tr>\n",
       "      <th>month</th>\n",
       "      <th></th>\n",
       "      <th></th>\n",
       "    </tr>\n",
       "  </thead>\n",
       "  <tbody>\n",
       "    <tr>\n",
       "      <th>Август</th>\n",
       "      <td>NaN</td>\n",
       "      <td>1779.0</td>\n",
       "    </tr>\n",
       "    <tr>\n",
       "      <th>Апрель</th>\n",
       "      <td>77.0</td>\n",
       "      <td>77.0</td>\n",
       "    </tr>\n",
       "    <tr>\n",
       "      <th>Декабрь</th>\n",
       "      <td>NaN</td>\n",
       "      <td>1765.0</td>\n",
       "    </tr>\n",
       "    <tr>\n",
       "      <th>Июль</th>\n",
       "      <td>NaN</td>\n",
       "      <td>1347.0</td>\n",
       "    </tr>\n",
       "    <tr>\n",
       "      <th>Март</th>\n",
       "      <td>607.0</td>\n",
       "      <td>607.0</td>\n",
       "    </tr>\n",
       "    <tr>\n",
       "      <th>Ноябрь</th>\n",
       "      <td>NaN</td>\n",
       "      <td>1477.0</td>\n",
       "    </tr>\n",
       "    <tr>\n",
       "      <th>Октябрь</th>\n",
       "      <td>NaN</td>\n",
       "      <td>1536.0</td>\n",
       "    </tr>\n",
       "    <tr>\n",
       "      <th>Сентябрь</th>\n",
       "      <td>NaN</td>\n",
       "      <td>1924.0</td>\n",
       "    </tr>\n",
       "    <tr>\n",
       "      <th>Февраль</th>\n",
       "      <td>623.0</td>\n",
       "      <td>623.0</td>\n",
       "    </tr>\n",
       "    <tr>\n",
       "      <th>Январь</th>\n",
       "      <td>NaN</td>\n",
       "      <td>660.0</td>\n",
       "    </tr>\n",
       "  </tbody>\n",
       "</table>\n",
       "</div>"
      ],
      "text/plain": [
       "          active     new\n",
       "month                   \n",
       "Август       NaN  1779.0\n",
       "Апрель      77.0    77.0\n",
       "Декабрь      NaN  1765.0\n",
       "Июль         NaN  1347.0\n",
       "Март       607.0   607.0\n",
       "Ноябрь       NaN  1477.0\n",
       "Октябрь      NaN  1536.0\n",
       "Сентябрь     NaN  1924.0\n",
       "Февраль    623.0   623.0\n",
       "Январь       NaN   660.0"
      ]
     },
     "execution_count": 918,
     "metadata": {},
     "output_type": "execute_result"
    }
   ],
   "source": [
    "cross_table_4"
   ]
  }
 ],
 "metadata": {
  "kernelspec": {
   "display_name": "Python 3",
   "language": "python",
   "name": "python3"
  },
  "language_info": {
   "codemirror_mode": {
    "name": "ipython",
    "version": 3
   },
   "file_extension": ".py",
   "mimetype": "text/x-python",
   "name": "python",
   "nbconvert_exporter": "python",
   "pygments_lexer": "ipython3",
   "version": "3.7.6"
  }
 },
 "nbformat": 4,
 "nbformat_minor": 4
}
